{
 "cells": [
  {
   "cell_type": "markdown",
   "metadata": {},
   "source": [
    "Load MNIST dataset to train a LeNET deep training model for hand-writing digits.\n",
    "First, load Keras, Sklearn, Numpy, and Matplotlib"
   ]
  },
  {
   "cell_type": "code",
   "execution_count": 3,
   "metadata": {
    "collapsed": true
   },
   "outputs": [],
   "source": [
    "from keras.optimizers import SGD\n",
    "from sklearn.preprocessing import LabelBinarizer\n",
    "from sklearn.model_selection import train_test_split\n",
    "from sklearn.metrics import classification_report\n",
    "from sklearn import datasets\n",
    "from keras import backend as K\n",
    "import matplotlib.pyplot as plt\n",
    "import numpy as np"
   ]
  },
  {
   "cell_type": "markdown",
   "metadata": {},
   "source": [
    "\n",
    "The MNIST database contains a total of 70000 examples of handwritten digits of size 28x28 pixels, labeled from 0 to 9.\n",
    "Load MNIST dataset ~ 55MB"
   ]
  },
  {
   "cell_type": "code",
   "execution_count": 2,
   "metadata": {
    "collapsed": true
   },
   "outputs": [],
   "source": [
    "dataset = datasets.fetch_mldata(\"MNIST Original\")\n",
    "data = dataset.data"
   ]
  },
  {
   "cell_type": "code",
   "execution_count": 6,
   "metadata": {},
   "outputs": [
    {
     "name": "stdout",
     "output_type": "stream",
     "text": [
      "(70000, 784)\n"
     ]
    }
   ],
   "source": [
    "# check data shape\n",
    "print(data.shape)"
   ]
  },
  {
   "cell_type": "code",
   "execution_count": 14,
   "metadata": {
    "collapsed": true
   },
   "outputs": [],
   "source": [
    "# channels first or channels last\n",
    "if K.image_data_format() == \"channels_first\":\n",
    "    data = data.reshape(data.shape[0], 1, 28, 28)\n",
    "    input_shape = (1, 28, 28)\n",
    "else:\n",
    "    data = data.reshape(data.shape[0], 28, 28, 1)\n",
    "    input_shape = (28, 28, 1)"
   ]
  },
  {
   "cell_type": "code",
   "execution_count": 8,
   "metadata": {
    "collapsed": true
   },
   "outputs": [],
   "source": [
    "# normalize data from [0-255] to [0-1]\n",
    "# split 25% data for testing\n",
    "(trainX, testX, trainY, testY) = train_test_split(data/255.0, dataset.target.astype(\"int\"), test_size=0.25, random_state=42)"
   ]
  },
  {
   "cell_type": "code",
   "execution_count": 9,
   "metadata": {
    "collapsed": true
   },
   "outputs": [],
   "source": [
    "# convert labels from integers to vectors\n",
    "le = LabelBinarizer()\n",
    "trainY = le.fit_transform(trainY)\n",
    "testY = le.transform(testY)"
   ]
  },
  {
   "cell_type": "code",
   "execution_count": 10,
   "metadata": {
    "collapsed": true
   },
   "outputs": [],
   "source": [
    "# use optimizer SGD with learning rate 0.01\n",
    "opt = SGD(lr=0.01)"
   ]
  },
  {
   "cell_type": "code",
   "execution_count": 16,
   "metadata": {},
   "outputs": [],
   "source": [
    "# create LeNet model\n",
    "# image size 28x28, grayscale\n",
    "# 10 classes 0..9\n",
    "from keras.models import Sequential\n",
    "from keras.layers import Dense, Dropout, Flatten\n",
    "from keras.layers import Conv2D, MaxPooling2D\n",
    "\n",
    "\n",
    "num_classes = 10\n",
    "model = Sequential()\n",
    "model.add(Conv2D(32, kernel_size=(3, 3),\n",
    "                 activation='relu',\n",
    "                 input_shape=input_shape))\n",
    "model.add(Conv2D(64, (3, 3), activation='relu'))\n",
    "model.add(MaxPooling2D(pool_size=(2, 2)))\n",
    "model.add(Dropout(0.25))\n",
    "model.add(Flatten())\n",
    "model.add(Dense(128, activation='relu'))\n",
    "model.add(Dropout(0.5))\n",
    "model.add(Dense(num_classes, activation='softmax'))\n",
    "# optimize loss on categorical_crossentropy\n",
    "model.compile(loss=\"categorical_crossentropy\", optimizer=opt, metrics=[\"accuracy\"])"
   ]
  },
  {
   "cell_type": "code",
   "execution_count": 17,
   "metadata": {},
   "outputs": [
    {
     "name": "stdout",
     "output_type": "stream",
     "text": [
      "Train on 52500 samples, validate on 17500 samples\n",
      "Epoch 1/20\n",
      "52500/52500 [==============================] - 96s 2ms/step - loss: 1.2212 - acc: 0.6099 - val_loss: 0.3875 - val_acc: 0.8795\n",
      "Epoch 2/20\n",
      "52500/52500 [==============================] - 95s 2ms/step - loss: 0.4787 - acc: 0.8525 - val_loss: 0.2628 - val_acc: 0.9215\n",
      "Epoch 3/20\n",
      "52500/52500 [==============================] - 98s 2ms/step - loss: 0.3897 - acc: 0.8814 - val_loss: 0.2360 - val_acc: 0.9287\n",
      "Epoch 4/20\n",
      "52500/52500 [==============================] - 98s 2ms/step - loss: 0.3460 - acc: 0.8955 - val_loss: 0.2034 - val_acc: 0.9377\n",
      "Epoch 5/20\n",
      "52500/52500 [==============================] - 95s 2ms/step - loss: 0.3171 - acc: 0.9036 - val_loss: 0.1802 - val_acc: 0.9470\n",
      "Epoch 6/20\n",
      "52500/52500 [==============================] - 96s 2ms/step - loss: 0.2897 - acc: 0.9125 - val_loss: 0.1684 - val_acc: 0.9510\n",
      "Epoch 7/20\n",
      "52500/52500 [==============================] - 96s 2ms/step - loss: 0.2754 - acc: 0.9165 - val_loss: 0.1645 - val_acc: 0.9533\n",
      "Epoch 8/20\n",
      "52500/52500 [==============================] - 96s 2ms/step - loss: 0.2610 - acc: 0.9222 - val_loss: 0.1522 - val_acc: 0.9551\n",
      "Epoch 9/20\n",
      "52500/52500 [==============================] - 101s 2ms/step - loss: 0.2511 - acc: 0.9256 - val_loss: 0.1423 - val_acc: 0.9565\n",
      "Epoch 10/20\n",
      "52500/52500 [==============================] - 102s 2ms/step - loss: 0.2406 - acc: 0.9278 - val_loss: 0.1369 - val_acc: 0.9597\n",
      "Epoch 11/20\n",
      "52500/52500 [==============================] - 103s 2ms/step - loss: 0.2323 - acc: 0.9319 - val_loss: 0.1287 - val_acc: 0.9626\n",
      "Epoch 12/20\n",
      "52500/52500 [==============================] - 96s 2ms/step - loss: 0.2202 - acc: 0.9338 - val_loss: 0.1262 - val_acc: 0.9641\n",
      "Epoch 13/20\n",
      "52500/52500 [==============================] - 99s 2ms/step - loss: 0.2133 - acc: 0.9367 - val_loss: 0.1226 - val_acc: 0.9646\n",
      "Epoch 14/20\n",
      "52500/52500 [==============================] - 104s 2ms/step - loss: 0.2086 - acc: 0.9366 - val_loss: 0.1154 - val_acc: 0.9653\n",
      "Epoch 15/20\n",
      "52500/52500 [==============================] - 106s 2ms/step - loss: 0.2004 - acc: 0.9400 - val_loss: 0.1135 - val_acc: 0.9665\n",
      "Epoch 16/20\n",
      "52500/52500 [==============================] - 101s 2ms/step - loss: 0.1903 - acc: 0.9419 - val_loss: 0.1230 - val_acc: 0.9610\n",
      "Epoch 17/20\n",
      "52500/52500 [==============================] - 102s 2ms/step - loss: 0.1815 - acc: 0.9447 - val_loss: 0.1069 - val_acc: 0.9688\n",
      "Epoch 18/20\n",
      "52500/52500 [==============================] - 113s 2ms/step - loss: 0.1791 - acc: 0.9466 - val_loss: 0.1002 - val_acc: 0.9706\n",
      "Epoch 19/20\n",
      "52500/52500 [==============================] - 116s 2ms/step - loss: 0.1718 - acc: 0.9493 - val_loss: 0.0989 - val_acc: 0.9703\n",
      "Epoch 20/20\n",
      "52500/52500 [==============================] - 108s 2ms/step - loss: 0.1674 - acc: 0.9500 - val_loss: 0.0967 - val_acc: 0.9712\n"
     ]
    }
   ],
   "source": [
    "# train the network with training and testing data, batch record size 128, and 20 iterations (epochs)\n",
    "H = model.fit(trainX, trainY, validation_data=(testX, testY), batch_size=128, epochs=20, verbose=1)"
   ]
  },
  {
   "cell_type": "code",
   "execution_count": 18,
   "metadata": {},
   "outputs": [
    {
     "name": "stdout",
     "output_type": "stream",
     "text": [
      "             precision    recall  f1-score   support\n",
      "\n",
      "          0       0.98      0.98      0.98      1677\n",
      "          1       0.98      0.99      0.98      1935\n",
      "          2       0.98      0.97      0.97      1767\n",
      "          3       0.95      0.98      0.96      1766\n",
      "          4       0.98      0.97      0.97      1691\n",
      "          5       0.97      0.96      0.96      1653\n",
      "          6       0.98      0.97      0.98      1754\n",
      "          7       0.97      0.98      0.97      1846\n",
      "          8       0.96      0.96      0.96      1702\n",
      "          9       0.97      0.94      0.95      1709\n",
      "\n",
      "avg / total       0.97      0.97      0.97     17500\n",
      "\n"
     ]
    }
   ],
   "source": [
    "# evaluate the network\n",
    "predictions = model.predict(testX, batch_size=128)\n",
    "print(classification_report(testY.argmax(axis=1),\n",
    "\tpredictions.argmax(axis=1),\n",
    "\ttarget_names=[str(x) for x in le.classes_]))"
   ]
  },
  {
   "cell_type": "code",
   "execution_count": 19,
   "metadata": {},
   "outputs": [
    {
     "data": {
      "image/png": "[encoded data removed]",
      "text/plain": [
       "<matplotlib.figure.Figure at 0x1a137ab9b0>"
      ]
     },
     "metadata": {},
     "output_type": "display_data"
    }
   ],
   "source": [
    "# plot the training loss and accuracy\n",
    "plt.style.use(\"ggplot\")\n",
    "plt.figure()\n",
    "plt.plot(np.arange(0, 20), H.history[\"loss\"], label=\"train_loss\")\n",
    "plt.plot(np.arange(0, 20), H.history[\"val_loss\"], label=\"val_loss\")\n",
    "plt.plot(np.arange(0, 20), H.history[\"acc\"], label=\"train_acc\")\n",
    "plt.plot(np.arange(0, 20), H.history[\"val_acc\"], label=\"val_acc\")\n",
    "plt.title(\"Training Loss and Accuracy\")\n",
    "plt.xlabel(\"Epoch #\")\n",
    "plt.ylabel(\"Loss/Accuracy\")\n",
    "plt.legend()\n",
    "plt.show()\n"
   ]
  },
  {
   "cell_type": "code",
   "execution_count": 20,
   "metadata": {
    "collapsed": true
   },
   "outputs": [],
   "source": [
    "model.save('digits_model')"
   ]
  }
 ],
 "metadata": {
  "kernelspec": {
   "display_name": "Python 3",
   "language": "python",
   "name": "python3"
  },
  "language_info": {
   "codemirror_mode": {
    "name": "ipython",
    "version": 3
   },
   "file_extension": ".py",
   "mimetype": "text/x-python",
   "name": "python",
   "nbconvert_exporter": "python",
   "pygments_lexer": "ipython3",
   "version": "3.6.3"
  }
 },
 "nbformat": 4,
 "nbformat_minor": 2
}
